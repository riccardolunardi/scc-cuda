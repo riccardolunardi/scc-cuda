{
 "cells": [
  {
   "cell_type": "code",
   "execution_count": null,
   "metadata": {},
   "outputs": [],
   "source": [
    "%pip install networkx\n",
    "%pip install matplotlib"
   ]
  },
  {
   "cell_type": "code",
   "execution_count": 269,
   "metadata": {},
   "outputs": [],
   "source": [
    "import networkx as nx\n",
    "import random\n",
    "import operator\n",
    "from statistics import mean\n"
   ]
  },
  {
   "cell_type": "code",
   "execution_count": 311,
   "metadata": {},
   "outputs": [
    {
     "name": "stdout",
     "output_type": "stream",
     "text": [
      "Cicli da creare: 100\n",
      "Lunghezza media dei cicli creati: 6\n",
      "=================================================\n",
      "Genero i cicli...\n",
      "Aggiungo archi randomici...\n",
      "Unisco i cicli...\n",
      "Rimuovo 400 archi a caso...\n",
      "Creazione grafo conclusa! Calcolo delle SCC...\n",
      "=================================================\n",
      "Nodi della rete: 668\n",
      "Archi della rete: 3659\n",
      "SCC create: 35\n",
      "Grandezza media delle SCC: 19\n"
     ]
    }
   ],
   "source": [
    "cycles_to_create = 100\n",
    "cycles = []\n",
    "\n",
    "length_cycles = [random.randint(3, 10) for _ in range(100)]\n",
    "avg_length_cycles = int(mean(length_cycles))\n",
    "chosen_length_cycle = []\n",
    "\n",
    "print(f\"Cicli da creare: {cycles_to_create}\", f\"Lunghezza media dei cicli creati: {avg_length_cycles}\", \"=================================================\", sep=\"\\n\")\n",
    "\n",
    "print(\"Genero i cicli...\")\n",
    "for i in range(1, cycles_to_create+1):\n",
    "    chosen_length_cycle.append(random.choice(length_cycles))\n",
    "    cycles.append(nx.cycle_graph(chosen_length_cycle[-1], create_using=nx.DiGraph()))\n",
    "\n",
    "print(\"Aggiungo archi randomici...\")\n",
    "main_graph = nx.fast_gnp_random_graph(avg_length_cycles*cycles_to_create, p=0.01, directed=True)\n",
    "\n",
    "print(\"Unisco i cicli...\")\n",
    "for i, cycle_offset in enumerate(list(zip(cycles, chosen_length_cycle))):\n",
    "    cycle, offset = cycle_offset\n",
    "    new_edges = [(e[0]+offset*i, e[1]+offset*i) for e in cycle.edges]\n",
    "    main_graph.add_edges_from(new_edges)\n",
    "\n",
    "n_arcs_to_remove = 400\n",
    "print(f\"Rimuovo {n_arcs_to_remove} archi a caso...\")\n",
    "for _ in range(n_arcs_to_remove):\n",
    "    edge_to_remove = random.choice(list(main_graph.edges))\n",
    "    main_graph.remove_edge(*edge_to_remove)\n",
    "\n",
    "print(\"Creazione grafo conclusa! Calcolo delle SCC...\", \"=================================================\", sep=\"\\n\")\n",
    "\n",
    "sccs = [g for g in nx.strongly_connected_components(main_graph)]\n",
    "print(f\"Nodi della rete: {len(main_graph.nodes)}\", f\"Archi della rete: {len(main_graph.edges)}\", f\"SCC create: {len(sccs)}\", \n",
    "    f\"Grandezza media delle SCC: {int(mean([len(s)for s in sccs]))}\",sep=\"\\n\")"
   ]
  },
  {
   "cell_type": "code",
   "execution_count": 215,
   "metadata": {},
   "outputs": [
    {
     "data": {
      "text/plain": [
       "[[(0, 1), (1, 2), (2, 0)],\n",
       " [(3, 4), (4, 5), (5, 6), (6, 7), (7, 8), (8, 3)],\n",
       " [(6, 7),\n",
       "  (7, 8),\n",
       "  (8, 9),\n",
       "  (9, 10),\n",
       "  (10, 11),\n",
       "  (11, 12),\n",
       "  (12, 13),\n",
       "  (13, 14),\n",
       "  (14, 6)]]"
      ]
     },
     "execution_count": 215,
     "metadata": {},
     "output_type": "execute_result"
    }
   ],
   "source": [
    "test"
   ]
  },
  {
   "cell_type": "code",
   "execution_count": 222,
   "metadata": {},
   "outputs": [
    {
     "name": "stdout",
     "output_type": "stream",
     "text": [
      "% 9 9\n",
      "0 1\n",
      "1 2\n",
      "2 0\n",
      "3 4\n",
      "4 5\n",
      "5 3\n",
      "6 7\n",
      "7 8\n",
      "8 6\n",
      "0\n",
      "1\n",
      "2\n",
      "3\n",
      "4\n",
      "5\n",
      "6\n",
      "7\n",
      "8\n"
     ]
    }
   ],
   "source": [
    "order_adj = []\n",
    "operator.itemgetter(1,2)\n",
    "for u, connected_to_u in main_graph.adjacency():\n",
    "    for v in connected_to_u:\n",
    "        order_adj.append((u, v))\n",
    "\n",
    "order_adj.sort(key=operator.itemgetter(0,1))\n",
    "\n",
    "print(f\"% {len(order_adj)} {len(main_graph.nodes)}\")\n",
    "for u, v in order_adj:\n",
    "    print(f\"{u} {v}\")\n",
    "\n",
    "print(\"\\n\".join(list(map(str,range(len(main_graph.nodes))))))"
   ]
  },
  {
   "cell_type": "code",
   "execution_count": null,
   "metadata": {},
   "outputs": [
    {
     "data": {
      "text/plain": [
       "'0\\n1\\n2\\n3\\n4\\n5\\n6\\n7\\n8\\n9\\n10\\n11\\n12\\n13\\n14\\n15\\n16\\n17\\n18\\n19\\n20\\n21\\n22\\n23\\n24\\n25\\n26\\n27\\n28\\n29\\n30\\n31\\n32\\n33\\n34\\n35\\n36\\n37\\n38\\n39\\n40\\n41\\n42\\n43\\n44\\n45\\n46\\n47\\n48\\n49\\n50\\n51\\n52\\n53\\n54\\n55\\n56\\n57\\n58\\n59\\n60\\n61\\n62\\n63\\n64\\n65\\n66\\n67\\n68\\n69\\n70\\n71\\n72\\n73\\n74\\n75\\n76\\n77\\n78\\n79\\n80\\n81\\n82\\n83\\n84\\n85\\n86\\n87\\n88\\n89\\n90\\n91\\n92\\n93\\n94\\n95\\n96\\n97\\n98\\n99\\n100\\n101\\n102\\n103\\n104\\n105\\n106\\n107\\n108\\n109\\n110\\n111\\n112\\n113\\n114\\n115\\n116\\n117\\n118\\n119\\n120\\n121\\n122\\n123\\n124\\n125\\n126\\n127\\n128\\n129\\n130\\n131\\n132\\n133\\n134\\n135\\n136\\n137\\n138\\n139\\n140\\n141\\n142\\n143\\n144\\n145\\n146\\n147\\n148\\n149\\n150\\n151\\n152\\n153\\n154\\n155\\n156\\n157\\n158\\n159\\n160\\n161\\n162\\n163\\n164\\n165\\n166\\n167\\n168\\n169\\n170\\n171\\n172\\n173\\n174\\n175\\n176\\n177\\n178\\n179\\n180\\n181\\n182\\n183\\n184\\n185\\n186\\n187\\n188\\n189\\n190\\n191\\n192\\n193\\n194\\n195\\n196\\n197\\n198\\n199\\n200\\n201\\n202\\n203\\n204\\n205\\n206\\n207\\n208\\n209\\n210\\n211\\n212\\n213\\n214\\n215\\n216\\n217\\n218\\n219\\n220\\n221\\n222\\n223\\n224\\n225\\n226\\n227\\n228\\n229\\n230\\n231\\n232\\n233\\n234\\n235\\n236\\n237\\n238\\n239'"
      ]
     },
     "execution_count": 202,
     "metadata": {},
     "output_type": "execute_result"
    }
   ],
   "source": [
    "\"\\n\".join(list(map(str,range(len(main_graph.nodes)))))"
   ]
  }
 ],
 "metadata": {
  "kernelspec": {
   "display_name": "Python 3.8.0 64-bit",
   "language": "python",
   "name": "python3"
  },
  "language_info": {
   "codemirror_mode": {
    "name": "ipython",
    "version": 3
   },
   "file_extension": ".py",
   "mimetype": "text/x-python",
   "name": "python",
   "nbconvert_exporter": "python",
   "pygments_lexer": "ipython3",
   "version": "3.8.0"
  },
  "orig_nbformat": 4,
  "vscode": {
   "interpreter": {
    "hash": "455b1c37c49fbdf8b2a6c46fcff47232371e8457690c1da14c030bce61fe857e"
   }
  }
 },
 "nbformat": 4,
 "nbformat_minor": 2
}
